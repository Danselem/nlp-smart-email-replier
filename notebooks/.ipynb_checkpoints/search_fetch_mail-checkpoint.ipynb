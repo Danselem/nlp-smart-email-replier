{
 "cells": [
  {
   "cell_type": "markdown",
   "metadata": {},
   "source": [
    "# Fetch Mails from Gmail using Gmail-API\n",
    "\n",
    "This is a project to search a gmail and fetch the message content."
   ]
  },
  {
   "cell_type": "code",
   "execution_count": 1,
   "metadata": {},
   "outputs": [],
   "source": [
    "#Importing required modules\n",
    "from __future__ import print_function\n",
    "import httplib2\n",
    "import os\n",
    "from googleapiclient.discovery import build\n",
    "#from apiclient import discovery\n",
    "from oauth2client import client\n",
    "from oauth2client import tools\n",
    "from oauth2client.file import Storage\n",
    "import base64\n",
    "from bs4 import BeautifulSoup\n",
    "import re\n",
    "import time\n",
    "import dateutil.parser as parser\n",
    "from datetime import datetime\n",
    "import datetime\n",
    "import email\n",
    "from cleantext import clean\n",
    "import csv\n",
    "\n",
    "\n",
    "try:\n",
    "    import argparse\n",
    "    flags = argparse.ArgumentParser(parents=[tools.argparser]).parse_args([])\n",
    "except ImportError:\n",
    "    flags = None"
   ]
  },
  {
   "cell_type": "code",
   "execution_count": 2,
   "metadata": {},
   "outputs": [],
   "source": [
    "#Defining auhorization scopes\n",
    "SCOPES = 'https://www.googleapis.com/auth/gmail.readonly'\n",
    "CLIENT_SECRET_FILE = 'credentials.json' #Name of gmail credential file\n",
    "storage = 'gmail-storage.json' #Name of storage credential retured by Gmail API\n",
    "APPLICATION_NAME = 'Gmail API Python' #Name of Application\n",
    "\n",
    "#Function to activate credential\n",
    "def get_credentials():\n",
    "    \"\"\"Gets valid user credentials from storage.\n",
    "\n",
    "    If nothing has been stored, or if the stored credentials are invalid,\n",
    "    the OAuth2 flow is completed to obtain the new credentials.\n",
    "\n",
    "    Returns:\n",
    "        Credentials, the obtained credential.\n",
    "    \"\"\"\n",
    "    path = '~/Desktop/Doing_DS' #creating credential path\n",
    "    home_dir = os.path.expanduser(path)\n",
    "    credential_dir = os.path.join(home_dir, 'secrets')\n",
    "    credential_path = os.path.join(credential_dir,\n",
    "                                   CLIENT_SECRET_FILE)\n",
    "    if not os.path.exists(credential_dir):\n",
    "        os.makedirs(credential_dir)\n",
    "    storage_path = os.path.join(credential_dir,\n",
    "                                   storage)\n",
    "\n",
    "    store = Storage(storage_path)\n",
    "    credentials = store.get()\n",
    "    if not credentials or credentials.invalid:\n",
    "        flow = client.flow_from_clientsecrets(credential_path, SCOPES)\n",
    "        flow.user_agent = APPLICATION_NAME\n",
    "        if flags:\n",
    "            credentials = tools.run_flow(flow, store, flags)\n",
    "        else: # Needed only for compatibility with Python 2.6\n",
    "            credentials = tools.run(flow, store)\n",
    "        print('Storing credentials to ' + storage_path)\n",
    "    return credentials"
   ]
  },
  {
   "cell_type": "code",
   "execution_count": 3,
   "metadata": {},
   "outputs": [],
   "source": [
    "#getting credentials\n",
    "credentials = get_credentials()"
   ]
  },
  {
   "cell_type": "code",
   "execution_count": 4,
   "metadata": {},
   "outputs": [],
   "source": [
    "#A function to get authorization and create a service\n",
    "def get_service():\n",
    "    \n",
    "    #authorization of credentials\n",
    "    http = credentials.authorize(httplib2.Http())\n",
    "\n",
    "    #service variable is the access point to complete gmail API\n",
    "    service = build('gmail', 'v1', http=http)\n",
    "    \n",
    "    return service"
   ]
  },
  {
   "cell_type": "code",
   "execution_count": 5,
   "metadata": {},
   "outputs": [],
   "source": [
    "#creating the service\n",
    "service = get_service()"
   ]
  },
  {
   "cell_type": "markdown",
   "metadata": {},
   "source": [
    "## Searching Gmail to fetch mail id\n",
    "A search query is defined based on gmail search operator defined at https://support.google.com/mail/answer/7190?hl=en. \n",
    "\n",
    "A search query string is provided below as an example."
   ]
  },
  {
   "cell_type": "code",
   "execution_count": 6,
   "metadata": {},
   "outputs": [],
   "source": [
    "search_query = \"yalin.mailer@state.gov, after:01/01/2020\" #Support@airdropalert.com,\n",
    "#bhanu@analyticsvidhya.com,  kunal.jain\n",
    "\n",
    "def filter_mail(service, query):\n",
    "    '''\n",
    "    service = a gmail service\n",
    "    \n",
    "    query = a search query\n",
    "    '''\n",
    "    \n",
    "    mail_id = service.users().messages().list(userId='me', \n",
    "                                              #maxResults=10,\n",
    "                                              q=search_query).execute()['messages']\n",
    "\n",
    "    return mail_id"
   ]
  },
  {
   "cell_type": "code",
   "execution_count": 7,
   "metadata": {},
   "outputs": [],
   "source": [
    "mail_ids = filter_mail(service, query = search_query)"
   ]
  },
  {
   "cell_type": "code",
   "execution_count": 8,
   "metadata": {},
   "outputs": [],
   "source": [
    "def data_encoder(text):\n",
    "    if len(text)>0:\n",
    "        message = base64.urlsafe_b64decode(text)\n",
    "        message = str(message, 'utf-8')\n",
    "        message = email.message_from_string(message)\n",
    "    return message"
   ]
  },
  {
   "cell_type": "code",
   "execution_count": 9,
   "metadata": {},
   "outputs": [],
   "source": [
    "def readMessage(content)->str:\n",
    "    message = None\n",
    "    if \"data\" in content['payload']['body']:\n",
    "        message = content['payload']['body']['data']\n",
    "        message = data_encoder(message)\n",
    "    elif \"data\" in content['payload']['parts'][0]['body']:\n",
    "        message = content['payload']['parts'][0]['body']['data']\n",
    "        message = data_encoder(message)\n",
    "    else:\n",
    "        print(\"body has no data.\")\n",
    "    return message"
   ]
  },
  {
   "cell_type": "code",
   "execution_count": 24,
   "metadata": {},
   "outputs": [],
   "source": [
    "def fetch_mail(mail_id):\n",
    "    mail_list = []\n",
    "    \n",
    "    for ml_id in mail_id:\n",
    "        mail_dict = { }\n",
    "        m_id = ml_id['id'] # get id of individual message\n",
    "        message = service.users().messages().get(userId= 'me',\n",
    "                                                 id=m_id).execute() \n",
    "        payld = message['payload'] # get payload of the message \n",
    "        m_head = payld['headers'] # getting message payload header\n",
    "\n",
    "        \n",
    "        for sub in m_head: #Fetching the mail Subject\n",
    "            if sub['name'] == 'Subject':\n",
    "                m_subj = sub['value']\n",
    "                mail_dict['Subject'] = m_subj\n",
    "            else:\n",
    "                pass\n",
    "        \n",
    "        \n",
    "        for dt in m_head: # getting the date\n",
    "            if dt['name'] == 'Date':\n",
    "                mail_date = dt['value']\n",
    "                date_parse = (parser.parse(mail_date))\n",
    "                m_date = (date_parse.date())\n",
    "                mail_dict['Date'] = str(m_date)\n",
    "            else:\n",
    "                pass\n",
    "\n",
    "        \n",
    "        for sender in m_head: # getting the Sender\n",
    "            if sender['name'] == 'From':\n",
    "                m_from = sender['value']\n",
    "                mail_dict['Sender'] = m_from\n",
    "            else:\n",
    "                pass\n",
    "            \n",
    "        \n",
    "            \n",
    "        mssg = readMessage(message)\n",
    "        msg_body = BeautifulSoup(mssg.get_payload(), 'lxml')\n",
    "        msg_text = msg_body.body.get_text()\n",
    "        clean_text = clean(msg_text, \n",
    "                           fix_unicode=True,\n",
    "                           to_ascii=True,\n",
    "                           no_line_breaks=False,\n",
    "                           no_urls=True) # Execute all cleaning operations\n",
    "\n",
    "        mail_dict['Message body'] = clean_text\n",
    "        \n",
    "        \n",
    "        mail_list.append(mail_dict)\n",
    "    \n",
    "    return mail_list"
   ]
  },
  {
   "cell_type": "code",
   "execution_count": 25,
   "metadata": {},
   "outputs": [],
   "source": [
    "mail_List = fetch_mail(mail_id = mail_ids)"
   ]
  },
  {
   "cell_type": "code",
   "execution_count": 52,
   "metadata": {},
   "outputs": [],
   "source": [
    "def save_data(mail_list, file_path):\n",
    "    with open(file_path, 'w', encoding='utf-8', newline = '') as csvfile: \n",
    "        #fieldnames = ['Sender','Subject','Date','Snippet','Message_body']\n",
    "        fieldnames = ['Sender','Subject','Date','Message body']\n",
    "        writer = csv.DictWriter(csvfile, fieldnames=fieldnames, delimiter = ',')\n",
    "        writer.writeheader()\n",
    "        for val in mail_list:\n",
    "            writer.writerow(val)"
   ]
  },
  {
   "cell_type": "code",
   "execution_count": 53,
   "metadata": {},
   "outputs": [],
   "source": [
    "# file paths\n",
    "raw_data_path = os.path.join(os.path.pardir,'src', 'data','raw')\n",
    "fetchmail_data_path = os.path.join(raw_data_path, 'fetched_gmail.csv')"
   ]
  },
  {
   "cell_type": "code",
   "execution_count": 54,
   "metadata": {},
   "outputs": [],
   "source": [
    "# save data\n",
    "save_data(mail_List,fetchmail_data_path)"
   ]
  },
  {
   "cell_type": "code",
   "execution_count": 38,
   "metadata": {},
   "outputs": [
    {
     "data": {
      "text/plain": [
       "'../src/data/raw'"
      ]
     },
     "execution_count": 38,
     "metadata": {},
     "output_type": "execute_result"
    }
   ],
   "source": [
    "raw_data_path"
   ]
  },
  {
   "cell_type": "code",
   "execution_count": 42,
   "metadata": {},
   "outputs": [
    {
     "data": {
      "text/plain": [
       "<module 'posixpath' from '/home/danselem/anaconda3/lib/python3.7/posixpath.py'>"
      ]
     },
     "execution_count": 42,
     "metadata": {},
     "output_type": "execute_result"
    }
   ],
   "source": [
    "os.path"
   ]
  },
  {
   "cell_type": "code",
   "execution_count": 26,
   "metadata": {},
   "outputs": [
    {
     "data": {
      "text/plain": [
       "[{'Subject': 'There’s a NEW YALI4Youth Workbook',\n",
       "  'Date': '2021-01-12',\n",
       "  'Sender': 'YALI Network <yalin.mailer@state.gov>',\n",
       "  'Message body': \"youth mentorship workbook\\nno images? click here <url>\\ndear okwudili,\\nin the past weeks, you've worked hard to learn some of the fundamentals of youth development and mentorship with our yali4youth online course. now it's time to take your skills one step further.\\ntoday we're releasing the new yali4youth youth development workbook to provide you with resources and personal exercises on some of the critical points of youth development. by completing this workbook, you'll be preparing yourself to be a successful and impactful youth mentor.\\nso let's get started. download and complete the new workbook today in either english, french, or portuguese.\\ndownload the new youth development workbook [<url>]\\nthere's still more to come in yali4youth! stay tuned to our facebook [<url>], twitter [<url>], and linkedin [<url>] to see what's next. and don't forget that you can still take the yali4youth pledge [<url>], yali4youth quiz [<url>], or online course [<url>] if you haven't already!\\nbest,\\nsarah\\nyali network team\\nyou're receiving this email as a yali network member who signed up, earned a yali network online course certificate, or pledged as a part of a yali network initiative.\\nwant to learn about more events in your area or causes you care about? tell us about yourself [<url>] and your interests here.\\n not okwudili? sign up to [<url>] receive [<url>] more info from the yali network [<url>], straight to your inbox!\\ncopyright © 2021 u.s. department of state, young african leaders initiative. all rights reserved. forward <url> unsubscribe <url>\"},\n",
       " {'Subject': 'Be one of the first to take the NEW online course',\n",
       "  'Date': '2020-12-22',\n",
       "  'Sender': 'YALI Network <yalin.mailer@state.gov>',\n",
       "  'Message body': 'new course on youth development\\nno images? click here <url>\\ndear okwudili,\\nyou\\'ve already shown your commitment and compassion for africa\\'s youth. now it\\'s time to start building your mentorship skills.\\nyou can begin with our first resource - the new yali network online course, \"developing, mentoring and supporting youth.\" this three-part course will examine the mentor-mentee relationship, how to create programs for professional skills development, and how to guide youth through conflict resolution and management.\\nbe one of the first to earn your certificate for this new course in either english, french, or portuguese!\\ntake the new online course [<url>]\\nas you work through the course, don\\'t forget that you can still take the yali4youth pledge [<url>] and quiz [<url>]. take the quiz before or after completing the course to see how your knowledge measures up.\\nthere are still more yali4youth resources to come! stay tuned to our facebook [<url>], twitter [<url>], and linkedin [<url>] to see what\\'s next.\\nbest,\\nsarah\\nyali network team\\nyou\\'re receiving this email as a yali network member who signed up, earned a yali network online course certificate, or pledged as a part of a yali network initiative.\\nwant to learn about more events in your area or causes you care about? tell us about yourself [<url>] and your interests here.\\n not okwudili? sign up to [<url>] receive [<url>] more info from the yali network [<url>], straight to your inbox!\\ncopyright © 2021 u.s. department of state, young african leaders initiative. all rights reserved. forward <url> unsubscribe <url>'},\n",
       " {'Subject': 'Africa’s youth is waiting for you!',\n",
       "  'Date': '2020-12-02',\n",
       "  'Sender': 'YALI Network <yalin.mailer@state.gov>',\n",
       "  'Message body': \"no images? click here <url>\\ndear okwudili,\\nafrica's youth are ready to become the next generation of global leaders - but they need your help.\\nin order to become political, economic, and cultural changemakers, africa's youth needs strong role models to mentor and coach them. they need you.\\nif you're ready to commit to the future of africa, click the link below to download the yali4youth pledge.\\ntake the yali4youth pledge [<url>]\\nnext week we'll be releasing a brand new yali4youth resource, so keep an eye on your inbox and our facebook [<url>], twitter [<url>], and linkedin [<url>]pages for more.\\nbest,\\nsarah\\nyali network team\\nyou're receiving this email as a yali network member who signed up, earned a yali network online course certificate, or pledged as a part of a yali network initiative.\\nwant to learn about more events in your area or causes you care about? tell us about yourself [<url>] and your interests here.\\n not okwudili? sign up to [<url>] receive [<url>] more info from the yali network [<url>], straight to your inbox!\\ncopyright © 2021 u.s. department of state, young african leaders initiative. all rights reserved. forward <url> unsubscribe <url>\"},\n",
       " {'Subject': 'YALI4Youth Starts NOW!',\n",
       "  'Date': '2020-11-24',\n",
       "  'Sender': 'YALI Network <yalin.mailer@state.gov>',\n",
       "  'Message body': \"no images? click here <url>\\ndear okwudili,\\nacross the world, generations of youth are growing, learning, and preparing to become the next generation of leaders in their communities. but africa's youth is special.\\naccording to the united nations, there are over 226 million young people living in africa today and in the next 30 years, 50% of the world's population growth will happen in africa. this means africa's youth isn't just preparing to be local leaders. they're preparing to be global leaders.\\nbut what types of leaders will they become?\\ntoday, we're excited to announce the start of yali4youth. over the coming months through yali4youth, you'll learn how to mentor youth and help them become the types of leaders who change businesses, communities, cultures, and countries for the better.\\nare you ready to get started? click the link below to download the yali4youth pledge and show your dedication to the next generation of african leaders.\\ntake the yali4youth pledge [<url>]\\nin the coming months, we'll be sharing even more yali4youth resources, including a brand new online quiz and course! keep an eye on our facebook [<url>], twitter [<url>], and linkedin [<url>] pages for more.\\nbest,\\nsarah\\nyali network team\\nyou're receiving this email as a yali network member who signed up, earned a yali network online course certificate, or pledged as a part of a yali network initiative.\\nwant to learn about more events in your area or causes you care about? tell us about yourself [<url>] and your interests here.\\n not okwudili? sign up to [<url>] receive [<url>] more info from the yali network [<url>], straight to your inbox!\\ncopyright © 2021 u.s. department of state, young african leaders initiative. all rights reserved. forward <url> unsubscribe <url>\"},\n",
       " {'Subject': 'YALI RLC West Africa - Applications Open!',\n",
       "  'Date': '2020-10-23',\n",
       "  'Sender': 'YALI Network <yalin.mailer@state.gov>',\n",
       "  'Message body': \"no images? click here <url>\\ndear okwudili,\\nare you passionate about improving your leadership skills through the most experiential training on the continent? join the over 6,000 yali regional leadership center accra alumni impacting their communities, organizations, and countries. the rlc west africa develops the skills of young african leaders by providing core training in contemporary african issues, as well as specialized training in three key areas: business and entrepreneurship, civic leadership, and public management.\\napplications for cohort 37 are now open until november 29, 2020! apply now! [<url>]\\ncompetition for the yali regional leadership center west africa is merit-based and open to young west african leaders who meet the following criteria:\\nare 18 to 35 years of age at the time of application submission,are citizens and residents of one of the following countries: ghana, nigeria, togo, ivory coast, cameroon, liberia, sierra leone, the gambia and burkina faso.are not u.s. citizens or permanent residents of the u.s.are eligible to receive any necessary visa to ghana, andare proficient in reading, writing, listening and speaking english.\\nstart your leadership dream today by joining us at the yali rlc west africa.\\ngood luck!\\nthe yali regional leadership center west africa team\\nyou're receiving this email as a yali network member who signed up, earned a yali network online course certificate, or pledged as a part of a yali network initiative.\\nwant to learn about more events in your area or causes you care about? tell us about yourself [<url>] and your interests here.\\ncopyright © 2020 u.s. department of state, young african leaders initiative. all rights reserved. forward <url> unsubscribe <url>\"},\n",
       " {'Subject': \"Don't miss out on these financial literacy resources!\",\n",
       "  'Date': '2020-10-22',\n",
       "  'Sender': 'YALI Network <yalin.mailer@state.gov>',\n",
       "  'Message body': 'these yalientrepreneurs resources are here for you\\nno images? click here <url>\\ndear okwudili,\\nthousands of yali network members are perfecting their money management skills. it\\'s time for you to join them!\\nif you\\'re ready to take control of your financial future and grow your financial literacy, then take our new yali network online course, \"fundamentals of personal money management.\" this three-part course will break down important financial concepts and teach you how to create and meet lifelong financial goals. you can earn your certificate for this new course below in either english, french, or portuguese.\\ntake the course [<url>]\\nafter you\\'ve earned your certificate, you can apply your new skills to the new yalientrepreneurs money management workbook [<url>]. you can download and complete the workbook in english, french, or portuguese today.\\nbest,\\nsarah\\nyali network team\\nyou\\'re receiving this email as a yali network member who signed up, earned a yali network online course certificate, or pledged as a part of a yali network initiative.\\nwant to learn about more events in your area or causes you care about? tell us about yourself [<url>] and your interests here.\\n not okwudili? sign up to [<url>] receive [<url>] more info from the yali network [<url>], straight to your inbox!\\ncopyright © 2020 u.s. department of state, young african leaders initiative. all rights reserved. forward <url> unsubscribe <url>'},\n",
       " {'Subject': 'YALIEntreprenuers Starts NOW!',\n",
       "  'Date': '2020-09-29',\n",
       "  'Sender': 'YALI Network <yalin.mailer@state.gov>',\n",
       "  'Message body': \"take control of your financial future\\nno images? click here <url>\\ndear okwudili,\\nwhen it comes to money, one thing is certain--it always feels like we never quite have enough. but financial success isn't necessarily about how much money you have, but how well you manage it.\\nwhile we all understand the importance of having money, understanding how to budget, invest, and plan for a financial future can be harder to grasp. that's why, today, we're launching yalientrepreneurs 2020.\\nover the next few weeks, yalientrepreneurs will allow you to explore the principles of financial literacy, learn new money management skills, and put it all into action. no matter where you stand financially, yalientrepreneurs will help set you up for financial success as both an individual and an entrepreneur.\\nare you ready to get started? take your first step toward financial success with the brand new yalientrepreneurs financial literacy quiz. you'll put your money management skills to the test and see where you stand!\\ntake the quiz [<url>]\\nin the coming weeks, we'll be sharing even more yalientrepreneurs resources, including a brand new online course and workbook! keep an eye on our facebook [<url>], twitter [<url>], and linkedin [<url>]pages for more over the coming weeks!\\nbest,\\nsarah\\nyali network team\\nyou're receiving this email as a yali network member who signed up, earned a yali network online course certificate, or pledged as a part of a yali network initiative.\\nwant to learn about more events in your area or causes you care about? tell us about yourself [<url>] and your interests here.\\n not okwudili? sign up to [<url>] receive [<url>] more info from the yali network [<url>], straight to your inbox!\\ncopyright © 2020 u.s. department of state, young african leaders initiative. all rights reserved. forward <url> unsubscribe <url>\"},\n",
       " {'Subject': 'Honor the International Day of Democracy with YALILearns!',\n",
       "  'Date': '2020-09-15',\n",
       "  'Sender': 'YALI Network <yalin.mailer@state.gov>',\n",
       "  'Message body': 'no images? click here <url>\\ndear okwudili,\\nhappy international day of democracy! today is the day we can all stand up for democracy by teaching others about the electoral process.\\nif you\\'re ready to inform others about the role that citizens have in the electoral process, consider facilitating a virtual yalilearns session on the yali network online course, \" understanding elections and civic responsibility. [<url>]\"\\nto get started planning your session, you can visit yali.state.gov/learns [<url>] for the virtual session planning toolkit [<url>] and facilitation guide [<url>].\\nand don\\'t forget that you can earn a custom yalilearns certificate, by sharing the details of your session with us. click the link below to start earning your certificate!\\ntell us about your yalilearns session [<url>]\\nin the coming weeks, the yali network team will review all of the submissions and issue custom certificates for exceptional virtual yalilearns sessions. please note that certificates will only be issued to network members who facilitated a virtual session of their own in the recent month.\\nbest,\\nsarah\\nyali network team\\nyou\\'re receiving this email as a yali network member who signed up, earned a yali network online course certificate, or pledged as a part of a yali network initiative.\\nwant to learn about more events in your area or causes you care about? tell us about yourself [<url>] and your interests here.\\n not okwudili? sign up to [<url>] receive [<url>] more info from the yali network [<url>], straight to your inbox!\\ncopyright © 2020 u.s. department of state, young african leaders initiative. all rights reserved. forward <url> unsubscribe <url>'},\n",
       " {'Subject': 'There’s a brand NEW YALI Course!',\n",
       "  'Date': '2020-09-08',\n",
       "  'Sender': 'YALI Network <yalin.mailer@state.gov>',\n",
       "  'Message body': 'no images? click here <url>\\ndear okwudili,\\nresponsible business practices and business ethics are inseparable from good leadership and from a strong professional. but ethical business isn\\'t always so simple or easy to maintain. to help navigate the complex world of an ethical workplace, we\\'re releasing our new yali network online course, \"fundamentals of responsible leadership for entrepreneurs.\"\\nthis three-part course provides guidelines on how to maintain transparency, approach team building, avoid biases, and how to better manage risk. whether you\\'re a business owner or a dedicated employee, this course will help you build your leadership skills.\\ntake the course [<url>]\\nif you\\'re looking for even more ways to build your professional skills, check out these yaliprofessionals resources:\\nemotional intelligence video series [<url>]\\nworkforce collaboration and development course [<url>]\\nmanagement strategies course [<url>]\\nresponsible leadership quiz [<url>]\\nbest,\\nsarah\\nyali network team\\nyou\\'re receiving this email as a yali network member who signed up, earned a yali network online course certificate, or pledged as a part of a yali network initiative.\\nwant to learn about more events in your area or causes you care about? tell us about yourself [<url>] and your interests here.\\nnot okwudili? sign up to [<url>] receive [<url>] more info from the yali network [<url>], straight to your inbox!\\ncopyright © 2020 u.s. department of state, young african leaders initiative. all rights reserved. forward <url> unsubscribe <url>'},\n",
       " {'Subject': 'It’s time to create change with YALILearns',\n",
       "  'Date': '2020-08-31',\n",
       "  'Sender': 'YALI Network <yalin.mailer@state.gov>',\n",
       "  'Message body': 'no images? click here <url>\\ndear okwudili,\\neach and every citizen has an important role to play in the electoral process. from voting to organizing, it\\'s important that we all understand our civic responsibility and how to be involved in elections.\\nto help teach others about democracy, in honor of the international day of democracy on september 15, we\\'re encouraging everyone to facilitate a virtual yalilearns session on the yali network online course, \" understanding elections and civic responsibility. [<url>]\"\\nby facilitating a virtual session on this course, you\\'ll be able to both learn and teach others about engaging with candidates and elected officials, organizing for civic engagement, and how to get the most from voting.\\nto facilitate a virtual yalilearns session, you\\'ll simply lead a chat on the social media platform of your choice to discuss what you\\'ve learned from this online course. but don\\'t worry - we have plenty of resources to help you through the process.\\nto plan your virtual yalilearns session:\\ndownload the virtual session planning toolkit [<url>] for step-by-step instructions.\\nearn your certificate for the yali network online course, \" understanding elections and civic responsibility. [<url>]\"\\ndownload the facilitation guide [<url>] and choose one or two of the discussion questions you\\'d like to use for your virtual session.\\nshare your session with us! in the coming weeks, we\\'ll follow up with you on how to earn your yalilearns certificate.\\nyou can also connect with other yali network members and invite them to your virtual session by using the hashtag #yalilearns across social media.\\nbest,\\nsarah\\nyali network team\\nyou\\'re receiving this email as a yali network member who signed up, earned a yali network online course certificate, or pledged as a part of a yali network initiative.\\nwant to learn about more events in your area or causes you care about? tell us about yourself [<url>] and your interests here.\\n not okwudili? sign up to [<url>] receive [<url>] more info from the yali network [<url>], straight to your inbox!\\ncopyright © 2020 u.s. department of state, young african leaders initiative. all rights reserved. forward <url> unsubscribe <url>'},\n",
       " {'Subject': 'Celebrate International Youth Day with YALILearns',\n",
       "  'Date': '2020-08-12',\n",
       "  'Sender': 'YALI Network <yalin.mailer@state.gov>',\n",
       "  'Message body': 'no images? click here <url>\\ndear okwudili,\\nhappy international youth day! today, you can both learn and teach others how to effectively advocate for the youth in your community by facilitating a virtual yalilearns session.\\nby facilitating a virtual yalilearns session with the yali network online course,\" creating and maintaining social enterprises [<url>],\" you can teach others about the best practices for developing nongovernmental organizations and how to meet the needs of your community. you can still plan a virtual session, by visiting yali.state.gov/learns [<url>] for the virtual session planning toolkit [<url>] and facilitation guide [<url>].\\nand don\\'t forget that you can earn a custom yalilearns certificate, by sharing the details of your session with us. click the link below to start earning your certificate!\\ntell us about your yalilearns session [<url>]\\nin the coming weeks, the yali network team will review all of the submissions and issue custom certificates for exceptional virtual yalilearns sessions. please note that certificates will only be issued to network members who facilitated a virtual session of their own in the recent month.\\nbest,\\nsarah\\nyali network team\\nyou\\'re receiving this email as a yali network member who signed up, earned a yali network online course certificate, or pledged as a part of a yali network initiative.\\nwant to learn about more events in your area or causes you care about? tell us about yourself [<url>] and your interests here.\\n not okwudili? sign up to [<url>] receive [<url>] more info from the yali network [<url>], straight to your inbox!\\ncopyright © 2020 u.s. department of state, young african leaders initiative. all rights reserved. forward <url> unsubscribe <url>'},\n",
       " {'Subject': 'YALIProfessionals 2020 is Here!',\n",
       "  'Date': '2020-08-11',\n",
       "  'Sender': 'YALI Network <yalin.mailer@state.gov>',\n",
       "  'Message body': 'no images? click here <url>\\ndear okwudili,\\ntoday, we\\'re excited to announce the launch of yaliprofessionals [<url>]! over the next five weeks, we\\'ll be exploring new online courses, videos, blog posts, workbooks, and more to help you build your skills and take your career to the next level.\\nno matter where you are in your professional career or what career path you\\'ve chosen, you can be a yali professional.\\nif you\\'re ready to get started on expanding your professional skills, you can start today with the yali network video vignette series, \"emotional intelligence.\" these videos will help you better understand and manage your stress to build healthy relationships and positively transform your community.\\nwatch the videos [<url>]\\nin the coming weeks, we\\'ll be sharing even more yaliprofessionals resources, including a brand new online course. keep an eye on our facebook [<url>] and twitter [<url>] pages for more over the coming weeks!\\nbest,\\nsarah\\nyali network team\\nyou\\'re receiving this email as a yali network member who signed up, earned a yali network online course certificate, or pledged as a part of a yali network initiative.\\nwant to learn about more events in your area or causes you care about? tell us about yourself [<url>] and your interests here.\\nnot okwudili? sign up to [<url>] receive [<url>] more info from the yali network [<url>], straight to your inbox!\\ncopyright © 2020 u.s. department of state, young african leaders initiative. all rights reserved. forward <url> unsubscribe <url>'},\n",
       " {'Subject': 'Celebrating YOU- the YALI 10 Generation!',\n",
       "  'Date': '2020-08-07',\n",
       "  'Sender': 'YALI Network <yalin.mailer@state.gov>',\n",
       "  'Message body': 'join me for a special #yali10 facebook live\\nno images? click here <url>\\ndear okwudili,\\nit\\'s hard to believe it, but this week marked the 10th anniversary of yali. wow! yali\\'s inaugural program in 2010 brought 115 young leaders to washington, d.c. to participate in a forum hosted by president obama. today, yali has over 21,000 alumni and membership in the online yali network is over 650,000 strong.\\nas the special coordinator for yali at the u.s. department of state, i am blessed with the opportunity to be serving a second foreign service tour supporting this amazing program. during my first assignment in 2011, i supported a forum for young african women leaders who transformed their communities and their countries through their inspiring work. a lot has changed since the beginning of yali, but the caliber of yali members has remained constant.\\nyou, the young leaders who embody yali\\'s spirit of service leadership, make yali more than just another program. for example, the yali network issued over 10,000 online course certificates during the recent yaliserves [<url>] campaign, as members increased their knowledge on how to grow as individuals, community members, and business leaders to positively serve their communities. many of you then used these skills to hold a virtual community service event in honor of nelson mandela day.\\n\"the yaliserves campaign,\" said one network member, \"has developed me into a leader who is prepared to fight all social issues in my community. it has also prepared me to be an entrepreneur and a leading example. it has improved both my confidence and commitment to my community.\"\\nwho is the yali generation? it is 2011 alumna robyn kriel, a fearless reporter from zimbabwe who has written about corruption and human rights abuses in her country. she was beaten by police and her mother was imprisoned, but robyn continued reporting because the people of zimbabwe \"want their stories to be told.\"\\nthe yali generation is network member sam sheka moi from sierra leone, who regularly leads service projects to make a positive impact in his community. sam has completed 21 yali network online courses and in turn has organized several yalilearns [<url>] events to spread his knowledge using materials from campaigns like africa4her [<url>], yaligoesgreen [<url>], and yalientrepreneurs [<url>].\\nit is dr. laud anthony basing, a 2016 alumnus from ghana who recently led a team of scientists to develop a rapid diagnostic test for covid-19. dr. basing credits his fellowship experience and expanded professional network as key components in reaching the full potential of his business and work.\\nand of course, you! every member of the yali network is making small changes that lead to big impacts across the continent. yours is the generation that is rising up to meet today\\'s challenges, including covid-19, the locust plague in east africa, and a global reckoning on social justice.\\nplease join me on saturday, august 8 at 4pm gmt for a facebook live ireport on yali tv commemorating #yali10!\\nwatch yali tv [<url>]\\nhappy 10th anniversary, yali!\\nelizabeth liu\\nspecial coordinator for the young african leaders initiative\\nyou\\'re receiving this email as a yali network member who signed up, earned a yali network online course certificate, or pledged as a part of a yali network initiative.\\nwant to learn about more events in your area or causes you care about? tell us about yourself [<url>] and your interests here.\\n not okwudili? sign up to [<url>] receive [<url>] more info from the yali network [<url>], straight to your inbox!\\ncopyright © 2020 u.s. department of state, young african leaders initiative. all rights reserved. forward <url> unsubscribe <url>'},\n",
       " {'Subject': 'How will you advocate for Africa’s youth?',\n",
       "  'Date': '2020-08-05',\n",
       "  'Sender': 'YALI Network <yalin.mailer@state.gov>',\n",
       "  'Message body': 'no images? click here <url>\\ndear okwudili,\\nthe youth of africa is the future of africa. and now more than ever, we must all learn how to advocate for youth and help teach them how to advocate for themselves.\\nin honor of international youth day on august 12, we\\'re encouraging everyone to facilitate a virtual yalilearns session on the yali network online course, \" creating and maintaining social enterprises [<url>],\" which teaches the best practices for meeting the needs of a community and effectively advocating for youth.\\nwith the covid-19 pandemic, we\\'re not encouraging in-person gatherings at this time. however, facilitating a virtual session on the yali network online course, \" creating and maintaining social enterprises [<url>],\" will allow you to safely share ideas and knowledge with your community, without meeting in person.\\nto facilitate a virtual yalilearns session, you\\'ll simply lead a chat on the social media platform of your choice to discuss what you\\'ve learned from this online course. but don\\'t worry - we have plenty of resources to help you through the process.\\nto plan your virtual yalilearns session:\\ndownload the virtual session planning toolkit [<url>] for step-by-step instructions.\\nearn your certificate for the yali network online course, \" creating and maintaining social enterprises [<url>].\"\\ndownload the facilitation guide [<url>] and choose one or two of the discussion questions you\\'d like to use for your virtual session.\\nshare your session with us! in the coming weeks, we\\'ll follow up with you on how to earn your yalilearns certificate.\\nyou can also connect with other yali network members and invite them to your virtual session by using the hashtag #yalilearns across social media.\\nbest,\\nsarah\\nyali network team\\nyou\\'re receiving this email as a yali network member who signed up, earned a yali network online course certificate, or pledged as a part of a yali network initiative.\\nwant to learn about more events in your area or causes you care about? tell us about yourself [<url>] and your interests here.\\n not okwudili? sign up to [<url>] receive [<url>] more info from the yali network [<url>], straight to your inbox!\\ncopyright © 2020 u.s. department of state, young african leaders initiative. all rights reserved. forward <url> unsubscribe <url>'},\n",
       " {'Subject': 'Happy 10 Year Anniversary of YALI!',\n",
       "  'Date': '2020-08-02',\n",
       "  'Sender': 'YALI Network <yalin.mailer@state.gov>',\n",
       "  'Message body': 'celebrate with two birthday presents!\\nno images? click here <url>\\ndear okwudili,\\ntoday marks the 10 year anniversary of yali!\\nwe want to celebrate the day with you- the people who have helped make yali such a success for an entire decade. to kick off the celebration, we\\'re unwrapping two special birthday presents!\\na new online course: our \"smart entrepreneurship\" online course [<url>] is live today in english, french [<url>], and portuguese [<url>]. the course outlines ways to take your startup business to the next level.\\na #yali10 facebook frame: click here to update your facebook profile [<url>] photo to show everyone how you\\'re celebrating the big day.\\nthank you for continuing to support yali and helping to make it great for the last 10 years. here\\'s to 10 more!\\nthe yali network team\\nyou\\'re receiving this email as a yali network member who signed up, earned a yali network online course certificate, or pledged as a part of a yali network initiative.\\nwant to learn about more events in your area or causes you care about? tell us about yourself [<url>] and your interests here.\\n not okwudili? sign up to [<url>] receive [<url>] more info from the yali network [<url>], straight to your inbox!\\ncopyright © 2020 u.s. department of state, young african leaders initiative. all rights reserved. forward <url> unsubscribe <url>'},\n",
       " {'Subject': 'We want your thoughts on YALIServes 2020!',\n",
       "  'Date': '2020-07-24',\n",
       "  'Sender': 'YALI Network <yalin.mailer@state.gov>',\n",
       "  'Message body': \"no images? click here <url>\\ndear yali network member,\\nthank you for your participation in yaliserves! you were one of the thousands of dedicated yali network members who decided to stand together and serve africa -- and we want to hear from you!\\nif yaliserves helped you develop your skills as an individual, a community leader, and a business owner, then we want to know more!\\nclick the button below to take a quick survey and share your yaliserves experience with us!\\ntake the survey [<url>]\\nbest,\\nsarah\\nyali network team\\nyou're receiving this email as a yali network member who signed up, earned a yali network online course certificate, or pledged as a part of a yali network initiative.\\nwant to learn about more events in your area or causes you care about? tell us about yourself [<url>] and your interests here.\\n not okwudili? sign up to [<url>] receive [<url>] more info from the yali network [<url>], straight to your inbox!\\ncopyright © 2020 u.s. department of state, young african leaders initiative. all rights reserved. forward <url> unsubscribe <url>\"},\n",
       " {'Subject': 'It’s time to create change with YALILearns',\n",
       "  'Date': '2020-07-22',\n",
       "  'Sender': 'YALI Network <yalin.mailer@state.gov>',\n",
       "  'Message body': 'no images? click here <url>\\ndear okwudili,\\nyouth skills day may have passed, but you can still empower the youth in your community to develop their skills with yalilearns.\\nby facilitating a virtual yalilearns session with the yali network video vignette series, \" emotional intelligence [<url>],\" you can teach others about the basics of emotional intelligence and how it can be a useful tool to transform yourself, your business, and your community. you can still plan a virtual session, by visiting yali.state.gov/learns [<url>] for the virtual session planning toolkit [<url>] and facilitation guide [<url>].\\nand don\\'t forget that you can earn a custom yalilearns certificate, by sharing the details of your session with us. click the link below to start earning your certificate!\\ntell us about your yalilearns session [<url>]\\nin the coming weeks, the yali network team will review all of the submissions and issue custom certificates for exceptional virtual yalilearns sessions. please note that certificates will only be issued to network members who facilitated a virtual session of their own in the recent month.\\nbest,\\nsarah\\nyali network team\\nyou\\'re receiving this email as a yali network member who signed up, earned a yali network online course certificate, or pledged as a part of a yali network initiative.\\nwant to learn about more events in your area or causes you care about? tell us about yourself [<url>] and your interests here.\\n not okwudili? sign up to [<url>] receive [<url>] more info from the yali network [<url>], straight to your inbox!\\ncopyright © 2020 u.s. department of state, young african leaders initiative. all rights reserved. forward <url> unsubscribe <url>'},\n",
       " {'Subject': 'It’s Time to Serve Africa - Together!',\n",
       "  'Date': '2020-07-18',\n",
       "  'Sender': 'YALI Network <yalin.mailer@state.gov>',\n",
       "  'Message body': \"no images? click here <url>\\ndear okwudili,\\nit's finally here - the yaliserves digital day of action! today is your chance to digitally join together with thousands of other young leaders across all of africa and serve each other.\\nif you are hosting a virtual event today, make sure to double check that you have everything prepared and ready to go! you can use the promotional image below to help advertise your event and don't forget to use the hashtags #yaliserves and #digitaldayofaction to connect with others who are serving today!\\nif you're hosting a virtual yalilearns session as your digital action, remember you can also check out the yalilearns virtual toolkit and facilitation guides to help you lead your session.\\ndigital day resources and information [<url>]\\nif you're looking to join one of the digital actions today, check out the yali network face2face [<url>] group to find an event that interests you. don't forget that you can also take the yaliserves online courses [<url>] and complete the yaliserves business analysis workbook [<url>] to help prepare!\\nbest of luck,\\nsarah\\nyali network team\\nyou're receiving this email as a yali network member who signed up, earned a yali network online course certificate, or pledged as a part of a yali network initiative.\\nwant to learn about more events in your area or causes you care about? tell us about yourself [<url>] and your interests here.\\n not okwudili? sign up to [<url>] receive [<url>] more info from the yali network [<url>], straight to your inbox!\\ncopyright © 2020 u.s. department of state, young african leaders initiative. all rights reserved. forward <url> unsubscribe <url>\"},\n",
       " {'Subject': 'Don’t Miss your Chance to Serve Africa!',\n",
       "  'Date': '2020-07-14',\n",
       "  'Sender': 'YALI Network <yalin.mailer@state.gov>',\n",
       "  'Message body': \"no images? click here <url>\\ndear okwudili,\\nthere are just four days left until the yaliserves digital of action!\\nif you're organizing a digital event or virtual yalilearns session, take the next few days to practice and make sure you're ready to go. make sure to also send a reminder to your participants about the time and social media place.\\nyou can also use the yali network face2face group [<url>] to invite participants. and for those of you not organizing a digital event, the facebook group is a great place to find events to join!\\nfor more information or resources on the yaliserves digital day of action, check out the yaliserves page.\\nlearn more about the digital day of action [<url>]\\nas we all prepare to serve africa together, don't forget to get ready with the yaliserves resources. the yaliserves courses [<url>] will allow you to build your skills as an individual and community leader, while the business analysis workbook [<url>] will help you guide your company or organization through difficult times.\\nbest,\\nsarah\\nyali network team\\nyou're receiving this email as a yali network member who signed up, earned a yali network online course certificate, or pledged as a part of a yali network initiative.\\nwant to learn about more events in your area or causes you care about? tell us about yourself [<url>] and your interests here.\\n not okwudili? sign up to [<url>] receive [<url>] more info from the yali network [<url>], straight to your inbox!\\ncopyright © 2020 u.s. department of state, young african leaders initiative. all rights reserved. forward <url> unsubscribe <url>\"},\n",
       " {'Subject': 'You’re Invited: YALIServes Digital Day of Action',\n",
       "  'Date': '2020-07-07',\n",
       "  'Sender': 'YALI Network <yalin.mailer@state.gov>',\n",
       "  'Message body': \"no images? click here <url>\\ndear okwudili,\\nthis year, in honor of international nelson mandela day on july 18, please join us as we virtually serve africa together with the yaliserves digital day of action [<url>]!\\nthe digital day of action will be a day for young leaders across all of africa, to join together to serve their digital communities. if you would like to join one of these virtual events, then check out the yali network face2face group [<url>] for an event that interests you.\\nif you would like to organize your own digital action, then there's still time! you can easily organize a virtual yalilearns session on one of the yaliserves online courses. you can start organizing your session using the yalilearns virtual toolkit and yaliserves facilitation guides found below.\\nstart planning your virtual session [<url>]\\nno matter if you're joining or leading a virtual event next week, you can still take advantage of the yaliserves resources to build your skills as an individual, community leader, and business owner. earn your course certificates [<url>] and complete the workbook [<url>] to get started!\\nbest,\\nsarah\\nyali network team\\nyou're receiving this email as a yali network member who signed up, earned a yali network online course certificate, or pledged as a part of a yali network initiative.\\nwant to learn about more events in your area or causes you care about? tell us about yourself [<url>] and your interests here.\\n not okwudili? sign up to [<url>] receive [<url>] more info from the yali network [<url>], straight to your inbox!\\ncopyright © 2020 u.s. department of state, young african leaders initiative. all rights reserved. forward <url> unsubscribe <url>\"},\n",
       " {'Subject': \"Message from Ambassador Nagy on George Floyd's Death\",\n",
       "  'Date': '2020-06-16',\n",
       "  'Sender': 'YALI Network <yalin.mailer@state.gov>',\n",
       "  'Message body': \"no images? click here <url>\\nhello yali network members,\\nlike many of you, the deaths of george floyd, ahmaud arbery, and breonna taylor and recent events have shocked and saddened me. across the continent in countries like nigeria, kenya, and south africa, africans have rallied to express their dismay at the brutal death of george floyd in minneapolis and are calling for justice. i salute their peaceful expression of solidarity in support of the ideals of equal justice.\\ngeorge floyd's death reminds us that we must work harder to secure the blessings of liberty for all americans, while we also defend the rights of people throughout sub-saharan africa to live in freedom and equality. our democracy is a work in progress, it is not perfect. we are witnessing progress in action as thousands of americans throughout the country confront racism and injustice openly and demand change with civil society pushing our government toward positive change. i am confident that justice will prevail and that the united states will be a better nation for it on the other side.\\nthe united states invests in sub-saharan africa because we believe in its people and their right to live in peace and good health, in a democracy where there is justice and economic opportunities. as we strive to perfect our american democracy and live up to our ideals, we will continue to seek the same commitment of our friends and partners around the world. it is up to each of us to do our part.\\nthe young african leaders initiative was founded on the belief in the potential of africa's youth to be a force for change across the continent. this starts with embracing the values of and modeling servant leadership. if you haven't already, i encourage you to take the yali network online course on servant leadership [<url>], and to participate in yaliserves [<url>] to demonstrate how you are making an impact in your community to address the issues you see most pressing.\\neach of us can make a difference for the good of others. we look forward to seeing how you are making your communities a better place.\\nin solidarity,\\nambassador tibor nagy\\nassistant secretary of state, bureau of african affairs\\nyou're receiving this email as a yali network member who signed up, earned a yali network online course certificate, or pledged as a part of a yali network initiative.\\nwant to learn about more events in your area or causes you care about? tell us about yourself [<url>] and your interests here.\\ncopyright © 2020 u.s. department of state, young african leaders initiative. all rights reserved. forward <url> unsubscribe <url>\"},\n",
       " {'Subject': 'Let’s Serve Africa Together!',\n",
       "  'Date': '2020-06-12',\n",
       "  'Sender': 'YALI Network <yalin.mailer@state.gov>',\n",
       "  'Message body': 'no images? click here <url>\\ndear okwudili,\\ntoday we are launching yaliserves [<url>] 2020!\\neach year, yaliserves calls on leaders like yourself to honor the legacy of nelson mandela through acts of volunteerism. nelson mandela worked tirelessly throughout his life to give back to his community, his country, and all of africa. now, more than ever, we need your help as we serve africa together.\\ndue to the covid-19 pandemic, yaliserves 2020 will be focusing on resiliency and how we can all continue to grow as individuals, community members, and business leaders, even in the face of great difficulty. by first serving ourselves, our businesses, and our communities, we will be more able to serve africa together.\\nif you\\'re ready to join yaliserves, start today by building your personal skills with the online course, \"strategies for personal growth and development.\" with this course, you\\'ll learn valuable skills like how to develop a personal code of ethics and the art of public speaking.\\ntake the online course [<url>]\\nin the coming weeks, we\\'ll take a deeper look at how to grow as community members and business leaders with another online course, a new workbook, blog posts, and a special digital service opportunity - so make sure you stay tuned to the yali network facebook page [<url>] to hear about what\\'s next.\\nbest,\\nsarah\\nyali network team\\nyou\\'re receiving this email as a yali network member who signed up, earned a yali network online course certificate, or pledged as a part of a yali network initiative.\\nwant to learn about more events in your area or causes you care about? tell us about yourself [<url>] and your interests here.\\n not okwudili? sign up to [<url>] receive [<url>] more info from the yali network [<url>], straight to your inbox!\\ncopyright © 2020 u.s. department of state, young african leaders initiative. all rights reserved. forward <url> unsubscribe <url>'},\n",
       " {'Subject': 'Check Yourself! Join YALIChecks 2.0',\n",
       "  'Date': '2020-05-12',\n",
       "  'Sender': 'YALI Network <yalin.mailer@state.gov>',\n",
       "  'Message body': \"no images? click here <url>\\ndear okwudili,\\nlast week we launched yalichecks 2.0, a campaign to help you improve your media literacy skills. we still need dedicated community leaders like you to take on the spread of misinformation, especially now when the world is experiencing a global health crisis. will you join us to help protect your family, your community, and your country?\\nwe have two great resources to get you started on your journey towards media literacy!\\ntake the yalichecks media literacy quiz [<url>] download the media literacy self-assessment [<url>]\\nthis is just the beginning of our work together to help stop the spread of misinformation. take a look at the story of isaac fenyi [<url>] from ghana who speaks about the importance media literacy plays in community leadership, as well as robert malit [<url>] from kenya who delivers a great podcast on the ethics of paid content. visit the yalichecks page [<url>] to access all these great resources, and stay tuned for more\\nbest,\\nerin\\nyali network team\\nyou're receiving this email as a yali network member who signed up, earned a yali network online course certificate, or pledged as a part of a yali network initiative.\\nwant to learn about more events in your area or causes you care about? tell us about yourself [<url>] and your interests here.\\n not okwudili? sign up to [<url>] receive [<url>] more info from the yali network [<url>], straight to your inbox!\\ncopyright © 2020 u.s. department of state, young african leaders initiative. all rights reserved. forward <url> unsubscribe <url>\"},\n",
       " {'Subject': 'Join YALIChecks 2.0!',\n",
       "  'Date': '2020-05-03',\n",
       "  'Sender': 'YALI Network <yalin.mailer@state.gov>',\n",
       "  'Message body': \"no images? click here <url>\\ndear okwudili,\\nit is more important than ever to stay informed and demonstrate community leadership by sharing accurate information, but that can be difficult! with the health issues facing the globe, there are many sources of false information--which is not just misleading, but also dangerous.\\ntoday, on world press freedom day, the yali network wants to help you become a better news consumer through the yalichecks 2.0 campaign. over the next few weeks we'll provide resources to help you understand how to evaluate the news you read and become a more savvy news consumer. you can be a leader for your family, your community, and your country by helping stop the spread of misinformation.\\nyou can start by taking our quiz to evaluate your current level of understanding regarding media literacy and misinformation!\\ntake the quiz! [<url>]\\nin the coming weeks, we'll help you build up your media literacy skills with a new self-assessment workbook, a video vignette series, a special online chat opportunity, and plenty of inspiring blog posts and podcasts. check out this week's podcast featuring lilian kaiviliu [<url>], an award-winning journalist from kenya, and a blog about margaret tukwaje lole [<url>], who is using the media for peace building in south sudan. make sure you stay tuned to the yali network facebook page [<url>] to hear about what's next!\\nbest,\\nerin\\nyali network team\\nyou're receiving this email as a yali network member who signed up, earned a yali network online course certificate, or pledged as a part of a yali network initiative.\\nwant to learn about more events in your area or causes you care about? tell us about yourself [<url>] and your interests here.\\n not okwudili? sign up to [<url>] receive [<url>] more info from the yali network [<url>], straight to your inbox!\\ncopyright © 2020 u.s. department of state, young african leaders initiative. all rights reserved. forward <url> unsubscribe <url>\"},\n",
       " {'Subject': 'Today! YALI Network YALICHAT on Mental Health and Coping with Crisis',\n",
       "  'Date': '2020-04-29',\n",
       "  'Sender': 'YALI Network <yalin.mailer@state.gov>',\n",
       "  'Message body': \"how are you coping with the #covid19 crisis? ask your questions about stress and anxiety to panel of yali network experts.\\nno images? click here <url>\\ndear okwudili,\\nnow is an important time to remember to take care of your health, especially when looking out for the health of your community during the covid-19 pandemic. we have assembled a panel of experts to answer your questions about mental health during this time.\\nhow are you coping with the #covid19 crisis? ask your questions about stress, anxiety, sleeplessness, and self care tips to a panel of yali network experts.\\njoin the chat to ask your questions now! [<url>]\\ndr. chido rwafa-madzvamutse, consultant psychiatrist\\ndr. lauren matthews liu, clinical psychologist\\ndeborah aba eturu, clinical psychiatric officer and a physician assistant\\npulane mphatsoe, clinical psychologist and public health specialist\\nhonore nzambu, mba, managing director of afrique prospere\\nplease note: these questions are visible in a public forum to all yali network members. if you're dealing with any serious mental health issues, please reach out to a qualified practitioner in your country. for the latest updates on the covid-19 pandemic, visit cdc africa: [<url>]\\nfor more stories on how yali network members are addressing mental health in their communities check out our most recent blog posts!\\nbe well and hope to see you at the chat,\\nkelsey & the yali network team\\nyou're receiving this email as a yali network member who signed up, earned a yali network online course certificate, or pledged as a part of a yali network initiative.\\nwant to learn about more events in your area or causes you care about? tell us about yourself [<url>] and your interests here.\\ncopyright © 2020 u.s. department of state, young african leaders initiative. all rights reserved. forward <url> unsubscribe <url>\"},\n",
       " {'Subject': 'Okwudili, you don’t want to miss these NEW women’s health resources!',\n",
       "  'Date': '2020-04-14',\n",
       "  'Sender': 'YALI Network <yalin.mailer@state.gov>',\n",
       "  'Message body': 'no images? click here <url>\\ndear okwudili,\\nwhen women succeed, we all succeed. by investing in women\\'s education, workplace equality, and physical and emotional health, you\\'re investing in the future. that\\'s because strong, healthy women make for a strong, healthy future.\\nthe more we all know about women\\'s health, the more we can educate others about how to prevent, improve, or stop health issues for the women and girls in our lives.\\nto help equip you with the knowledge and resources to stand up for women\\'s health, the yali network has released new women\\'s health resources as part of the recent africa4her campaign. complete the courses to earn your certificates, watch the videos, or complete the workbook to learn more about some of the health issues facing women! click the links below to view these resources in english, french, or portuguese.\\nyali network online course, \" understanding the rights of women and girls [<url>]\"\\nyali network online course, \" effective communication for healthy outcomes [<url>]\"\\nyali network video vignette series, \" what is gender-based violence? [<url>]\"\\nafrica4her women\\'s health workbook [<url>]\\nfor more women\\'s health resources, visit the africa4her [<url>] webpage!\\nbest,\\nsarah\\nyali network team\\nyou\\'re receiving this email as a yali network member who signed up, earned a yali network online course certificate, or pledged as a part of a yali network initiative.\\nwant to learn about more events in your area or causes you care about? tell us about yourself [<url>] and your interests here.\\n not okwudili? sign up to [<url>] receive [<url>] more info from the yali network [<url>], straight to your inbox!\\ncopyright © 2020 u.s. department of state, young african leaders initiative. all rights reserved. forward <url> unsubscribe <url>'},\n",
       " {'Subject': 'Celebrate World Fact Checking Day with this Video Series!',\n",
       "  'Date': '2020-04-02',\n",
       "  'Sender': 'YALI Network <yalin.mailer@state.gov>',\n",
       "  'Message body': 'no images? click here <url>\\ndear okwudili,\\naccurate news and information is more important now than ever before in light of the current health pandemic.\\ntoday, world fact checking day, you can learn how to be a smart media consumer with the yali network video vignette series, \"stop. reflect. verify.\"\\nthis three-part series discusses how inaccurate news and misinformation are impacting media and society, particularly in this era of expanding media platforms and unlimited access.\\nyou can become a smarter media consumer today, by watching the videos below! (available en francais [<url>] o em portugues [<url>]).\\nwatch the video series [<url>]\\nuse the information from these videos to think about the health information you are consuming in the media today. after you\\'ve watched, you can connect and share with others across social media using the hashtags #yalichecks and #yalicares.\\nbest,\\nsarah\\nyali network team\\nyou\\'re receiving this email as a yali network member who signed up, earned a yali network online course certificate, or pledged as a part of a yali network initiative.\\nwant to learn about more events in your area or causes you care about? tell us about yourself [<url>] and your interests here.\\ncopyright © 2020 u.s. department of state, young african leaders initiative. all rights reserved. forward <url> unsubscribe <url>'},\n",
       " {'Subject': 'Message from Ambassador Nagy on COVID-19',\n",
       "  'Date': '2020-03-31',\n",
       "  'Sender': 'YALI Network <yalin.mailer@state.gov>',\n",
       "  'Message body': \"follow the safety guidelines outlined by the cdc\\nno images? click here <url>\\nhello yali network members,\\ni hope this message finds you and your families, friends, and communities safe and in good health.\\nat this unprecedented time, i want you to know that the u.s. government is working around the clock to help stop the spread of covid-19. the united states is deploying the full range of u.s. resources to contain covid-19, not just at home, but also across the globe.\\nover the last 20 years, the united states has invested more than $100 billion to improve health care systems throughout sub-saharan africa. these investments have saved lives and trained african health care providers to be better prepared for health crises like the covid-19 pandemic. the united states continues to partner with the africa center for disease control and prevention (cdc) and national public health institutions in africa to support preparedness, and response to the ongoing global public health emergency that spread out of china and is now engulfing the world.\\nthese partnerships are important, but every member of the yali network also has a critical role to play in stopping the spread of covid-19. i urge you to follow the safety guidelines outlined by the cdc [<url>], and to encourage members of your community to do the same.\\nthese include:\\navoid large groups and practice social distancing. wash your hands frequently for at least 20 seconds. avoid close contact with people who are sick. cover your cough or sneeze with a tissue, then throw the tissue away. avoid touching your eyes, nose, and mouth. clean and disinfect frequently touched objects and surfaces. stay home when you are sick, except to get medical care.\\nwe are all in this fight together. please let me know in the comments on facebook what you're doing to keep your communities healthy [<url>]. please also follow me on twitter at @asstsecstateaf [<url>] for the latest updates on how the united states is partnering with africans to combat covid-19.\\nsincerely,\\ntibor nagy\\nassistant secretary of state, bureau of african affairs\\nyou're receiving this email as a yali network member who signed up, earned a yali network online course certificate, or pledged as a part of a yali network initiative.\\nwant to learn about more events in your area or causes you care about? tell us about yourself [<url>] and your interests here.\\ncopyright © 2020 u.s. department of state, young african leaders initiative. all rights reserved. forward <url> unsubscribe <url>\"},\n",
       " {'Subject': 'Your Last Chance for Africa4Her 2020!',\n",
       "  'Date': '2020-03-24',\n",
       "  'Sender': 'YALI Network <yalin.mailer@state.gov>',\n",
       "  'Message body': \"no images? click here <url>\\ndear okwudili,\\nthis is your last chance to join africa4her 2020! over the last few weeks, we've discussed important health issues and started to learn what we can all do to support women's health. now it's your turn!\\nyou can join africa4her today by downloading and completing the new africa4her workbook. this workbook includes the facts and resources you need to better understand five of the most prevalent health issues facing women across sub-saharan africa.\\nstart learning about women's health [<url>]\\nonce you've completed the workbook, you can learn even more about women's health with the africa4her yali network online courses [<url>] and video vignette series [<url>]. in the coming weeks, we'll be sharing even more information and resources, so stay tuned by visiting the yali network facebook page [<url>].\\nyou're receiving this email as a yali network member who signed up, earned a yali network online course certificate, or pledged as a part of a yali network initiative.\\nwant to learn about more events in your area or causes you care about? tell us about yourself [<url>] and your interests here.\\n not okwudili? sign up to [<url>] receive [<url>] more info from the yali network [<url>], straight to your inbox!\\ncopyright © 2020 u.s. department of state, young african leaders initiative. all rights reserved. forward <url> unsubscribe <url>\"},\n",
       " {'Subject': 'Celebrate World Water Day with YALILearns',\n",
       "  'Date': '2020-03-22',\n",
       "  'Sender': 'YALI Network <yalin.mailer@state.gov>',\n",
       "  'Message body': 'yalilearns : learn to lead\\nno images? click here <url>\\ndear okwudili,\\ntoday, you can join with other yalilearns members across social media to celebrate world water day!\\nto honor this day, you can complete the yali network online course \" understanding climate change [<url>]\" ( suivre le cours [<url>] o fazer o curso [<url>]) to earn your own personal certificate. then you can share your passion for the environment with others by connecting across social media and in the yali network face2face group [<url>].\\nif you have already facilitated your session, don\\'t forget that you can earn a custom yalilearns certificate, by sharing the details of your session with us. click the link below to start earning your certificate!\\nshare your yalilearns session [<url>]\\nin the coming weeks, the yali network team will review all of the submissions and issue custom certificates for exceptional yalilearns sessions. please note that certificates will only be issued to network members who facilitated a session of their own in the recent month.\\nbest,\\nsarah\\nyali network team\\nyou\\'re receiving this email as a yali network member who signed up, earned a yali network online course certificate, or pledged as a part of a yali network initiative.\\nwant to learn about more events in your area or causes you care about? tell us about yourself [<url>] and your interests here.\\n not okwudili? sign up to [<url>] receive [<url>] more info from the yali network [<url>], straight to your inbox!\\ncopyright © 2019 u.s. department of state, young african leaders initiative. all rights reserved. forward <url> unsubscribe <url>'},\n",
       " {'Subject': 'Be a champion for women’s health - Join Africa4Her',\n",
       "  'Date': '2020-03-16',\n",
       "  'Sender': 'YALI Network <yalin.mailer@state.gov>',\n",
       "  'Message body': \"join africa4her : supporting women's health\\nno images? click here <url>\\ndear okwudili,\\nlast week we launched africa4her 2020 and we still need your help to advocate for all aspects of women's health. by investing in women's physical, mental, and emotional health, you're investing in the future. so what are you waiting for?\\nyou can start supporting women today by taking the africa4her yali network online courses [<url>] and watching the video vignette series [<url>] to learn about the unique issues that impact women's health, the importance of accurate health information, and how we can all eliminate gender-based violence.\\ntake a stand for women's health [<url>]\\nin the coming weeks, we'll take a deeper look at women's health with a special online chat opportunity, blog posts and podcasts, and a new workbook- so make sure you stay tuned to the yali network facebook page [<url>] to hear about what's next.\\nbest,\\nsarah\\nyali network team\\nyou're receiving this email as a yali network member who signed up, earned a yali network online course certificate, or pledged as a part of a yali network initiative.\\nwant to learn about more events in your area or causes you care about? tell us about yourself [<url>] and your interests here.\\n not okwudili? sign up to [<url>] receive [<url>] more info from the yali network [<url>], straight to your inbox!\\ncopyright © 2020 u.s. department of state, young african leaders initiative. all rights reserved. forward <url> unsubscribe <url>\"},\n",
       " {'Subject': 'Join Africa4Her 2020!',\n",
       "  'Date': '2020-03-08',\n",
       "  'Sender': 'YALI Network <yalin.mailer@state.gov>',\n",
       "  'Message body': \"africa4her 2020 : empowering women's health\\nno images? click here <url>\\ndear okwudili,\\nwhen women succeed, we all succeed. by investing in women's education, workplace equality, and physical and emotional health, you're investing in the future. that's because strong, healthy women make for a strong, healthy future.\\ntoday, on international women's day, we are excited to announce africa4her 2020! for the next few weeks, we'll examine some of the most prevalent women's health issues and learn how we can all advocate for women's health.\\nyou can start today by taking the africa4her yali network online courses and learning about the unique issues that impact women's health and the importance of accurate health information.\\ntake the courses [<url>]\\nin the coming weeks, we'll take a deeper look at women's health with a video vignette series, a special online chat opportunity, blog posts and podcasts, and a new workbook- so make sure you stay tuned to the yali network facebook page [<url>] to hear about what's next.\\nbest,\\nsarah\\nyali network team\\nyou're receiving this email as a yali network member who signed up, earned a yali network online course certificate, or pledged as a part of a yali network initiative.\\nwant to learn about more events in your area or causes you care about? tell us about yourself [<url>] and your interests here.\\n not okwudili? sign up to [<url>] receive [<url>] more info from the yali network [<url>], straight to your inbox!\\ncopyright © 2020 u.s. department of state, young african leaders initiative. all rights reserved. forward <url> unsubscribe <url>\"},\n",
       " {'Subject': 'Help Us Honor Our Environment This Month With YALILearns',\n",
       "  'Date': '2020-03-03',\n",
       "  'Sender': 'YALI Network <yalin.mailer@state.gov>',\n",
       "  'Message body': 'yalilearns : learn to lead\\nno images? click here <url>\\ndear okwudili,\\neach march, the united nations honors two important days: world wildlife day and world oceans day. you can join in the celebration today, world wildlife day, by sharing your passion for environmental issues with those around you through yalilearns.\\nby facilitating a yalilearns session on the yali network online course, \" understanding climate change [<url>]\" ( suivre le cours [<url>] o fazer o curso [<url>]), you\\'ll also be able to develop new leadership skills, connect with other young leaders, and positively impact your friends, family, and community. you can get started today by watching the video vignette series, \"how-to yalilearns\" below.\\nwatch the videos [<url>]\\nafter you\\'ve watched the videos, remember to take the yali network online course, \" understanding climate change [<url>]\" ( suivre le cours [<url>] o fazer o curso [<url>]). then you can begin to plan your session, by using the corresponding facilitation guide [<url>].\\nas you plan, don\\'t forget to visit the yalilearns homepage [<url>] for additional resources like t-shirt graphics, sample event flyers, and other materials to help run and advertise your session. you can also post information on your session in the yali network face2face group [<url>] to invite other network members to your session!\\nin the coming weeks, we\\'ll be reaching out with more information on how you can share the details of your session for a chance to earn this month\\'s yalilearns certificate.\\nbest,\\nsarah\\nyali network team\\nyou\\'re receiving this email as a yali network member who signed up, earned a yali network online course certificate, or pledged as a part of a yali network initiative.\\nwant to learn about more events in your area or causes you care about? tell us about yourself [<url>] and your interests here.\\n not okwudili? sign up to [<url>] receive [<url>] more info from the yali network [<url>], straight to your inbox!\\ncopyright © 2019 u.s. department of state, young african leaders initiative. all rights reserved. forward <url> unsubscribe <url>'},\n",
       " {'Subject': 'Greetings from Tibor Nagy, Assistant Secretary of State, Bureau of African Affairs',\n",
       "  'Date': '2020-02-21',\n",
       "  'Sender': 'YALI Network <yalin.mailer@state.gov>',\n",
       "  'Message body': \"a message from the young african leaders initiative network\\nno images? click here <url>\\nhello yali network members!\\ngreetings from the bureau of african affairs at the u.s. department of state. i recently returned from a whirlwind trip to six african countries - central african republic (car), ethiopia, kenya, somalia, south sudan, and sudan and would like to share some highlights. while i enjoy traveling across africa and meeting with government officials, business leaders, and civil society, my favorite part is always engaging with dynamic youth like you.\\nfrom discussing upcoming elections with officials in car, to deepening u.s.-africa university partnerships in ethiopia, and affirming the united states' commitment to sudan during this monumental time in its democracy, i addressed the united states' key priorities in africa. these include advancing peace and security across the continent, urging governments to create a welcoming environment for increased trade and investment, creating educational and job opportunities for african youth, and responding to humanitarian crises.\\nin each country i visited, i was deeply inspired by the youth i met. for example, the young african leaders initiative (yali) alumni i met in bangui and juba are doing important work to promote reconciliation, create entrepreneurs, empower girls and women, and serve internally displaced populations. across the continent, yali alumni and network members are doing important work promoting peace and social cohesion, training young entrepreneurs, and preserving the environment. i look forward to commemorating the 10th anniversary of the yali with you in 2020. it's hard to believe that the yali network is now over 650,000 members strong! go yali!\\ncheck out my blog [<url>] about my trip and also follow me on twitter at @asstsecstateaf [<url>] to keep up with our activities - we welcome your engagement and suggestions. the united states stands with you and is committed at the highest levels. in fact, last week another department official, under secretary for political affairs david hale, traveled to cote d'ivoire and niger to strengthen commercial ties and advance peace and security through regional partnerships, and secretary pompeo is traveling to senegal, angola, and ethiopia. the united states looks forward to continuing our journey together to promote shared american and african prosperity and security.\\nsincerely,\\ntibor nagy\\nassistant secretary of state, bureau of african affairs\\nyou're receiving this email as a yali network member who signed up, earned a yali network online course certificate, or pledged as a part of a yali network initiative.\\nwant to learn about more events in your area or causes you care about? tell us about yourself [<url>] and your interests here.\\ncopyright © 2017 u.s. department of state, young african leaders initiative. all rights reserved. forward <url> unsubscribe <url>\"},\n",
       " {'Subject': 'A Great Year Ahead!',\n",
       "  'Date': '2020-01-01',\n",
       "  'Sender': 'YALI Network <yalin.mailer@state.gov>',\n",
       "  'Message body': \"celebrating 10 years of yali\\nno images? click here <url>\\ndear okwudili,\\nhappy 2020 from the yali network team! i hope you are enjoying the holiday season with your family and friends.\\nevery year yali network members continue to do fantastic things to make their communities a better place. in 2019 you and your colleagues have taken actions in yali network campaigns to raise awareness on the potential the agricultural sector [<url>] has for the prosperity of africa's future, educated your peers on gender-based violence [<url>] and how to address it, and learned how to harness your creativity to create economic opportunities [<url>].\\nnot only are we celebrating everything the yali network has achieved over the past year, but this year marks the 10th anniversary of the young african leaders initiative! visit us on facebook to tell us what you will do in 2020 to celebrate 10 years of yali by growing yourselves and giving back to your community, your country, and the world.\\nshare now! [<url>]\\nwishing you the very best for a happy and prosperous 2020!\\nkeep up the good work!\\nmiranna & the yali network team\\nyou're receiving this email as a yali network member who signed up, earned a yali network online course certificate, or pledged as a part of a yali network initiative.\\nwant to learn about more events in your area or causes you care about? tell us about yourself [<url>] and your interests here.\\n not okwudili? sign up to [<url>] receive [<url>] more info from the yali network [<url>], straight to your inbox!\\ncopyright © 2019 u.s. department of state, young african leaders initiative. all rights reserved. forward <url> unsubscribe <url>\"}]"
      ]
     },
     "execution_count": 26,
     "metadata": {},
     "output_type": "execute_result"
    }
   ],
   "source": [
    "mail_List"
   ]
  },
  {
   "cell_type": "code",
   "execution_count": 16,
   "metadata": {},
   "outputs": [],
   "source": [
    "import pandas as pd"
   ]
  },
  {
   "cell_type": "code",
   "execution_count": 17,
   "metadata": {},
   "outputs": [],
   "source": [
    "df = pd.DataFrame(mail_List)"
   ]
  },
  {
   "cell_type": "code",
   "execution_count": 23,
   "metadata": {},
   "outputs": [
    {
     "data": {
      "text/plain": [
       "\"youth mentorship workbook no images? click here <url> dear okwudili, in the past weeks, you've worked hard to learn some of the fundamentals of youth development and mentorship with our yali4youth online course. now it's time to take your skills one step further. today we're releasing the new yali4youth youth development workbook to provide you with resources and personal exercises on some of the critical points of youth development. by completing this workbook, you'll be preparing yourself to be a successful and impactful youth mentor. so let's get started. download and complete the new workbook today in either english, french, or portuguese. download the new youth development workbook [<url>] there's still more to come in yali4youth! stay tuned to our facebook [<url>], twitter [<url>], and linkedin [<url>] to see what's next. and don't forget that you can still take the yali4youth pledge [<url>], yali4youth quiz [<url>], or online course [<url>] if you haven't already! best, sarah yali network team you're receiving this email as a yali network member who signed up, earned a yali network online course certificate, or pledged as a part of a yali network initiative. want to learn about more events in your area or causes you care about? tell us about yourself [<url>] and your interests here. not okwudili? sign up to [<url>] receive [<url>] more info from the yali network [<url>], straight to your inbox! copyright © 2021 u.s. department of state, young african leaders initiative. all rights reserved. forward <url> unsubscribe <url>\""
      ]
     },
     "execution_count": 23,
     "metadata": {},
     "output_type": "execute_result"
    }
   ],
   "source": [
    "df['Message body'][0]"
   ]
  },
  {
   "cell_type": "code",
   "execution_count": 22,
   "metadata": {},
   "outputs": [],
   "source": [
    "?clean"
   ]
  },
  {
   "cell_type": "code",
   "execution_count": null,
   "metadata": {},
   "outputs": [],
   "source": []
  }
 ],
 "metadata": {
  "kernelspec": {
   "display_name": "Python 3",
   "language": "python",
   "name": "python3"
  },
  "language_info": {
   "codemirror_mode": {
    "name": "ipython",
    "version": 3
   },
   "file_extension": ".py",
   "mimetype": "text/x-python",
   "name": "python",
   "nbconvert_exporter": "python",
   "pygments_lexer": "ipython3",
   "version": "3.7.6"
  }
 },
 "nbformat": 4,
 "nbformat_minor": 4
}
